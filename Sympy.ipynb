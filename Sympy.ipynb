{
 "cells": [
  {
   "cell_type": "code",
   "execution_count": 1,
   "id": "a6cabbeb-776e-42ca-a816-e7c19072cf88",
   "metadata": {},
   "outputs": [],
   "source": [
    "import sympy as sm #sirve para hacer operaciones matemáticas con letras variables"
   ]
  },
  {
   "cell_type": "code",
   "execution_count": 2,
   "id": "d34edcd6-43c0-4ff6-ac57-1c39794bab0a",
   "metadata": {},
   "outputs": [
    {
     "data": {
      "text/latex": [
       "$\\displaystyle \\pi$"
      ],
      "text/plain": [
       "pi"
      ]
     },
     "execution_count": 2,
     "metadata": {},
     "output_type": "execute_result"
    }
   ],
   "source": [
    "sm.pi"
   ]
  },
  {
   "cell_type": "code",
   "execution_count": 4,
   "id": "41bb5a72-9c14-4083-86e1-ca28122f4457",
   "metadata": {},
   "outputs": [
    {
     "data": {
      "text/latex": [
       "$\\displaystyle 3 + \\pi^{2}$"
      ],
      "text/plain": [
       "3 + pi**2"
      ]
     },
     "execution_count": 4,
     "metadata": {},
     "output_type": "execute_result"
    }
   ],
   "source": [
    "3+sm.pi**2"
   ]
  },
  {
   "cell_type": "code",
   "execution_count": 5,
   "id": "28758e18-c02e-4f44-8723-60c447290fd3",
   "metadata": {},
   "outputs": [
    {
     "data": {
      "text/latex": [
       "$\\displaystyle e$"
      ],
      "text/plain": [
       "E"
      ]
     },
     "execution_count": 5,
     "metadata": {},
     "output_type": "execute_result"
    }
   ],
   "source": [
    "sm.exp(1)"
   ]
  },
  {
   "cell_type": "code",
   "execution_count": 6,
   "id": "92e7c268-b9e0-4e40-b454-3cec757ba35c",
   "metadata": {},
   "outputs": [
    {
     "data": {
      "text/latex": [
       "$\\displaystyle e^{4}$"
      ],
      "text/plain": [
       "exp(4)"
      ]
     },
     "execution_count": 6,
     "metadata": {},
     "output_type": "execute_result"
    }
   ],
   "source": [
    "sm.exp(4)"
   ]
  },
  {
   "cell_type": "code",
   "execution_count": 7,
   "id": "91df4692-8b44-44a7-b943-756165e7a87e",
   "metadata": {},
   "outputs": [
    {
     "data": {
      "text/latex": [
       "$\\displaystyle \\sqrt{3}$"
      ],
      "text/plain": [
       "sqrt(3)"
      ]
     },
     "execution_count": 7,
     "metadata": {},
     "output_type": "execute_result"
    }
   ],
   "source": [
    "sm.sqrt(3)"
   ]
  },
  {
   "cell_type": "code",
   "execution_count": 12,
   "id": "ab88d092-049e-4027-a18f-27034e886779",
   "metadata": {},
   "outputs": [
    {
     "data": {
      "text/latex": [
       "$\\displaystyle 7.59192529$"
      ],
      "text/plain": [
       "7.591925290"
      ]
     },
     "execution_count": 12,
     "metadata": {},
     "output_type": "execute_result"
    }
   ],
   "source": [
    "(sm.sqrt(3)+sm.pi+sm.exp(1)).evalf(10)  #evalf para obtener un valor aproximado, el argumento es para cuantos decimales se desean"
   ]
  },
  {
   "cell_type": "code",
   "execution_count": 13,
   "id": "27e2a9f8-7726-478f-8ef6-d2d469b2e9af",
   "metadata": {},
   "outputs": [
    {
     "data": {
      "text/latex": [
       "$\\displaystyle \\infty$"
      ],
      "text/plain": [
       "oo"
      ]
     },
     "execution_count": 13,
     "metadata": {},
     "output_type": "execute_result"
    }
   ],
   "source": [
    "sm.oo+100"
   ]
  },
  {
   "cell_type": "code",
   "execution_count": 15,
   "id": "14cfa2e3-cde1-4c27-824d-d24d7d6e87f7",
   "metadata": {},
   "outputs": [
    {
     "data": {
      "text/plain": [
       "3.25"
      ]
     },
     "execution_count": 15,
     "metadata": {},
     "output_type": "execute_result"
    }
   ],
   "source": [
    "3/4 + 5/2"
   ]
  },
  {
   "cell_type": "code",
   "execution_count": 17,
   "id": "a8b7b85c-2700-4ee2-b21e-119a05dc04f3",
   "metadata": {},
   "outputs": [
    {
     "data": {
      "text/latex": [
       "$\\displaystyle \\frac{13}{4}$"
      ],
      "text/plain": [
       "13/4"
      ]
     },
     "execution_count": 17,
     "metadata": {},
     "output_type": "execute_result"
    }
   ],
   "source": [
    "sm.Rational(3/4) + sm.Rational(5/2) #sirve con todas las operaciones de fracciones"
   ]
  },
  {
   "cell_type": "code",
   "execution_count": 18,
   "id": "ad601740-b84a-4b06-95bc-d94aec2aaefa",
   "metadata": {},
   "outputs": [],
   "source": [
    "x,y = sm.symbols('x y')"
   ]
  },
  {
   "cell_type": "code",
   "execution_count": 21,
   "id": "d7910a9f-849b-498e-beca-f318dbaa8a92",
   "metadata": {},
   "outputs": [
    {
     "data": {
      "text/latex": [
       "$\\displaystyle 2 x + 5 y - 5$"
      ],
      "text/plain": [
       "2*x + 5*y - 5"
      ]
     },
     "execution_count": 21,
     "metadata": {},
     "output_type": "execute_result"
    }
   ],
   "source": [
    "2*x+5*y-5"
   ]
  },
  {
   "cell_type": "code",
   "execution_count": 23,
   "id": "309f8266-de42-4ca6-81a9-ebec29a0914f",
   "metadata": {},
   "outputs": [
    {
     "data": {
      "text/latex": [
       "$\\displaystyle x^{3} - 3 x^{2} y + 3 x y^{2} - y^{3}$"
      ],
      "text/plain": [
       "x**3 - 3*x**2*y + 3*x*y**2 - y**3"
      ]
     },
     "execution_count": 23,
     "metadata": {},
     "output_type": "execute_result"
    }
   ],
   "source": [
    "sm.expand((x-y)**3)"
   ]
  },
  {
   "cell_type": "code",
   "execution_count": 24,
   "id": "1e232794-a2ae-4d6d-b405-962d752c5f37",
   "metadata": {},
   "outputs": [
    {
     "data": {
      "text/latex": [
       "$\\displaystyle x^{2} - y^{2}$"
      ],
      "text/plain": [
       "x**2 - y**2"
      ]
     },
     "execution_count": 24,
     "metadata": {},
     "output_type": "execute_result"
    }
   ],
   "source": [
    "sm.expand((x+y)*(x-y))"
   ]
  },
  {
   "cell_type": "code",
   "execution_count": null,
   "id": "207ffd37-44e3-456b-a9b1-ab5c86b41f77",
   "metadata": {},
   "outputs": [],
   "source": [
    "sm.simplify((x**3 + x**2 - x - 1)/(x**2 + x**1)) #simplificar terminos"
   ]
  },
  {
   "cell_type": "code",
   "execution_count": null,
   "id": "c222012f-92a5-45d6-b433-c80d096187e0",
   "metadata": {},
   "outputs": [],
   "source": [
    "sm.limit(sin(x)/x,x,0) # tres argumentos, (funcion,variable,limite)"
   ]
  },
  {
   "cell_type": "code",
   "execution_count": 25,
   "id": "53d7bd91-1c85-46a3-94e6-e942ef20a81c",
   "metadata": {},
   "outputs": [
    {
     "data": {
      "text/latex": [
       "$\\displaystyle \\cos{\\left(x \\right)}$"
      ],
      "text/plain": [
       "cos(x)"
      ]
     },
     "execution_count": 25,
     "metadata": {},
     "output_type": "execute_result"
    }
   ],
   "source": [
    "sm.limit((sm.sin(x+y)-sm.sin(x))/y,y,0)"
   ]
  },
  {
   "cell_type": "code",
   "execution_count": 26,
   "id": "4b3f5a0c-d52f-495a-adc1-e40e4c3d18a4",
   "metadata": {},
   "outputs": [
    {
     "data": {
      "text/latex": [
       "$\\displaystyle \\cos{\\left(x \\right)}$"
      ],
      "text/plain": [
       "cos(x)"
      ]
     },
     "execution_count": 26,
     "metadata": {},
     "output_type": "execute_result"
    }
   ],
   "source": [
    "sm.diff(sm.sin(x),x,) #Deriva una funcion (funcion,respecto a)"
   ]
  },
  {
   "cell_type": "code",
   "execution_count": 27,
   "id": "af03f2d0-0bbb-4b41-90f6-f83648437060",
   "metadata": {},
   "outputs": [
    {
     "data": {
      "text/latex": [
       "$\\displaystyle - \\sin{\\left(x \\right)}$"
      ],
      "text/plain": [
       "-sin(x)"
      ]
     },
     "execution_count": 27,
     "metadata": {},
     "output_type": "execute_result"
    }
   ],
   "source": [
    "sm.diff(sm.cos(x),x,)"
   ]
  },
  {
   "cell_type": "code",
   "execution_count": 28,
   "id": "5ccff7fd-0b51-4f2b-ba11-2508c6004501",
   "metadata": {},
   "outputs": [
    {
     "ename": "TypeError",
     "evalue": "__new__() missing 1 required positional argument: 'lhs'",
     "output_type": "error",
     "traceback": [
      "\u001b[0;31m---------------------------------------------------------------------------\u001b[0m",
      "\u001b[0;31mTypeError\u001b[0m                                 Traceback (most recent call last)",
      "\u001b[0;32m/tmp/ipykernel_4159/1488822197.py\u001b[0m in \u001b[0;36m<module>\u001b[0;34m\u001b[0m\n\u001b[0;32m----> 1\u001b[0;31m \u001b[0msm\u001b[0m\u001b[0;34m.\u001b[0m\u001b[0mEq\u001b[0m\u001b[0;34m(\u001b[0m \u001b[0;34m)\u001b[0m \u001b[0;31m## crea ecuacion(funcion, igual a)\u001b[0m\u001b[0;34m\u001b[0m\u001b[0;34m\u001b[0m\u001b[0m\n\u001b[0m",
      "\u001b[0;31mTypeError\u001b[0m: __new__() missing 1 required positional argument: 'lhs'"
     ]
    }
   ],
   "source": [
    "sm.Eq( ) ## crea ecuacion(funcion, igual a)"
   ]
  },
  {
   "cell_type": "code",
   "execution_count": 32,
   "id": "24583e75-d00e-445b-9174-6e8ed70165ec",
   "metadata": {},
   "outputs": [
    {
     "ename": "SyntaxError",
     "evalue": "invalid syntax (855390956.py, line 1)",
     "output_type": "error",
     "traceback": [
      "\u001b[0;36m  File \u001b[0;32m\"/tmp/ipykernel_4159/855390956.py\"\u001b[0;36m, line \u001b[0;32m1\u001b[0m\n\u001b[0;31m    sm.solve(𝑥**6+6*𝑥**5𝑦+15*𝑥**4*𝑦**2+20*𝑥**3*𝑦**3+15*𝑥**2*𝑦**4+6*𝑥*𝑦**5+𝑦**6=0,y) #despeja una variable (ecuacion, variable)\u001b[0m\n\u001b[0m                        ^\u001b[0m\n\u001b[0;31mSyntaxError\u001b[0m\u001b[0;31m:\u001b[0m invalid syntax\n"
     ]
    }
   ],
   "source": [
    "sm.solve(𝑥**6+6*𝑥**5𝑦+15*𝑥**4*𝑦**2+20*𝑥**3*𝑦**3+15*𝑥**2*𝑦**4+6*𝑥*𝑦**5+𝑦**6=0,y) #despeja una variable (ecuacion, variable)"
   ]
  },
  {
   "cell_type": "code",
   "execution_count": 35,
   "id": "5ecbb0bc-e598-42af-8141-f03b382b02e4",
   "metadata": {},
   "outputs": [],
   "source": [
    "A  = sm.Matrix([[1,x],[y,1]]) #matriz con simbolos"
   ]
  },
  {
   "cell_type": "code",
   "execution_count": 36,
   "id": "48775c34-1fcd-4bb7-8055-c76a36c04227",
   "metadata": {},
   "outputs": [
    {
     "data": {
      "text/latex": [
       "$\\displaystyle \\left[\\begin{matrix}1 & x\\\\y & 1\\end{matrix}\\right]$"
      ],
      "text/plain": [
       "Matrix([\n",
       "[1, x],\n",
       "[y, 1]])"
      ]
     },
     "execution_count": 36,
     "metadata": {},
     "output_type": "execute_result"
    }
   ],
   "source": [
    "A"
   ]
  },
  {
   "cell_type": "code",
   "execution_count": 37,
   "id": "8b6ed35d-49cd-4e74-ac3b-e2ebcf6c0dde",
   "metadata": {},
   "outputs": [
    {
     "data": {
      "text/latex": [
       "$\\displaystyle \\left[\\begin{matrix}x y + 1 & 2 x\\\\2 y & x y + 1\\end{matrix}\\right]$"
      ],
      "text/plain": [
       "Matrix([\n",
       "[x*y + 1,     2*x],\n",
       "[    2*y, x*y + 1]])"
      ]
     },
     "execution_count": 37,
     "metadata": {},
     "output_type": "execute_result"
    }
   ],
   "source": [
    "A**2"
   ]
  },
  {
   "cell_type": "code",
   "execution_count": 39,
   "id": "d4ee85fb-288b-4103-91a7-f2333c156c32",
   "metadata": {},
   "outputs": [
    {
     "data": {
      "text/latex": [
       "$\\displaystyle \\left[\\begin{matrix}y + 1 & 2\\\\2 y & y + 1\\end{matrix}\\right]$"
      ],
      "text/plain": [
       "Matrix([\n",
       "[y + 1,     2],\n",
       "[  2*y, y + 1]])"
      ]
     },
     "execution_count": 39,
     "metadata": {},
     "output_type": "execute_result"
    }
   ],
   "source": [
    "(A**2).subs(x,1) ##sustituir variables funcion.sm(variable,sustitucion)"
   ]
  },
  {
   "cell_type": "code",
   "execution_count": 43,
   "id": "ac57ecf8-b3b4-4f4e-94d5-480173cf065d",
   "metadata": {},
   "outputs": [
    {
     "data": {
      "text/latex": [
       "$\\displaystyle \\left[\\begin{matrix}1 & 2\\\\0 & 1\\end{matrix}\\right]$"
      ],
      "text/plain": [
       "Matrix([\n",
       "[1, 2],\n",
       "[0, 1]])"
      ]
     },
     "execution_count": 43,
     "metadata": {},
     "output_type": "execute_result"
    }
   ],
   "source": [
    "(A**2).subs([(x,1),(y,0)])"
   ]
  },
  {
   "cell_type": "code",
   "execution_count": null,
   "id": "f9d0b6d2-dc9c-4888-b8c5-b9a1a0d1bc07",
   "metadata": {},
   "outputs": [],
   "source": []
  },
  {
   "cell_type": "code",
   "execution_count": null,
   "id": "d551379d-c972-4f31-9f5f-d324ce922f21",
   "metadata": {},
   "outputs": [],
   "source": []
  },
  {
   "cell_type": "code",
   "execution_count": null,
   "id": "f2eeb8a8-671e-47bb-b688-f8446384eeaf",
   "metadata": {},
   "outputs": [],
   "source": []
  },
  {
   "cell_type": "code",
   "execution_count": null,
   "id": "0e0106f4-b405-4129-bfc8-6d8c0472c003",
   "metadata": {},
   "outputs": [],
   "source": []
  },
  {
   "cell_type": "code",
   "execution_count": null,
   "id": "502916bd-46b7-4166-85c2-5e2b9662e5f3",
   "metadata": {},
   "outputs": [],
   "source": []
  }
 ],
 "metadata": {
  "kernelspec": {
   "display_name": "Python 3 (ipykernel)",
   "language": "python",
   "name": "python3"
  },
  "language_info": {
   "codemirror_mode": {
    "name": "ipython",
    "version": 3
   },
   "file_extension": ".py",
   "mimetype": "text/x-python",
   "name": "python",
   "nbconvert_exporter": "python",
   "pygments_lexer": "ipython3",
   "version": "3.9.13"
  }
 },
 "nbformat": 4,
 "nbformat_minor": 5
}
