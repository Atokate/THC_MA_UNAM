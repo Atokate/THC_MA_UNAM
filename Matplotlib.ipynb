{
 "cells": [
  {
   "cell_type": "code",
   "execution_count": 24,
   "id": "6c3dca55",
   "metadata": {},
   "outputs": [],
   "source": [
    "import sympy as sm"
   ]
  },
  {
   "cell_type": "code",
   "execution_count": 10,
   "id": "6cb01f13",
   "metadata": {},
   "outputs": [],
   "source": [
    "a,b,c,d,e,f,x,y = sm.symbols('a b c d e f x y')"
   ]
  },
  {
   "cell_type": "code",
   "execution_count": 28,
   "id": "96c00762",
   "metadata": {},
   "outputs": [
    {
     "data": {
      "text/latex": [
       "$\\displaystyle a x + b y = e$"
      ],
      "text/plain": [
       "Eq(a*x + b*y, e)"
      ]
     },
     "execution_count": 28,
     "metadata": {},
     "output_type": "execute_result"
    }
   ],
   "source": [
    "sm.Eq(a*x + b*y,e)"
   ]
  },
  {
   "cell_type": "code",
   "execution_count": 27,
   "id": "227d5596",
   "metadata": {},
   "outputs": [
    {
     "data": {
      "text/latex": [
       "$\\displaystyle c x + d y = f$"
      ],
      "text/plain": [
       "Eq(c*x + d*y, f)"
      ]
     },
     "execution_count": 27,
     "metadata": {},
     "output_type": "execute_result"
    }
   ],
   "source": [
    "sm.Eq(c*x + d*y,f)"
   ]
  },
  {
   "cell_type": "code",
   "execution_count": 29,
   "id": "ccaf5561",
   "metadata": {},
   "outputs": [
    {
     "data": {
      "text/latex": [
       "$\\displaystyle \\left[\\begin{matrix}a & b\\\\c & d\\end{matrix}\\right]$"
      ],
      "text/plain": [
       "Matrix([\n",
       "[a, b],\n",
       "[c, d]])"
      ]
     },
     "execution_count": 29,
     "metadata": {},
     "output_type": "execute_result"
    }
   ],
   "source": [
    "A = sm.Matrix([[a,b],[c,d]])\n",
    "A"
   ]
  },
  {
   "cell_type": "code",
   "execution_count": 31,
   "id": "0dbceb28",
   "metadata": {},
   "outputs": [
    {
     "data": {
      "text/latex": [
       "$\\displaystyle \\left[\\begin{matrix}e\\\\f\\end{matrix}\\right]$"
      ],
      "text/plain": [
       "Matrix([\n",
       "[e],\n",
       "[f]])"
      ]
     },
     "execution_count": 31,
     "metadata": {},
     "output_type": "execute_result"
    }
   ],
   "source": [
    "B = sm.Matrix([e,f])\n",
    "B"
   ]
  },
  {
   "cell_type": "code",
   "execution_count": 33,
   "id": "aecb71d0",
   "metadata": {},
   "outputs": [
    {
     "data": {
      "text/latex": [
       "$\\displaystyle \\left[\\begin{matrix}x\\\\y\\end{matrix}\\right]$"
      ],
      "text/plain": [
       "Matrix([\n",
       "[x],\n",
       "[y]])"
      ]
     },
     "execution_count": 33,
     "metadata": {},
     "output_type": "execute_result"
    }
   ],
   "source": [
    "X = sm.Matrix([x,y])\n",
    "X"
   ]
  },
  {
   "cell_type": "code",
   "execution_count": 38,
   "id": "8a9e6d2d",
   "metadata": {},
   "outputs": [
    {
     "data": {
      "text/latex": [
       "$\\displaystyle \\left[\\begin{matrix}a x + b y\\\\c x + d y\\end{matrix}\\right]$"
      ],
      "text/plain": [
       "Matrix([\n",
       "[a*x + b*y],\n",
       "[c*x + d*y]])"
      ]
     },
     "execution_count": 38,
     "metadata": {},
     "output_type": "execute_result"
    }
   ],
   "source": [
    "A*X"
   ]
  },
  {
   "cell_type": "code",
   "execution_count": 39,
   "id": "8d3a6245",
   "metadata": {},
   "outputs": [
    {
     "data": {
      "text/latex": [
       "$\\displaystyle \\text{True}$"
      ],
      "text/plain": [
       "True"
      ]
     },
     "execution_count": 39,
     "metadata": {},
     "output_type": "execute_result"
    }
   ],
   "source": [
    "sm.Eq(A*X,B)"
   ]
  },
  {
   "cell_type": "code",
   "execution_count": 41,
   "id": "88c18db6",
   "metadata": {},
   "outputs": [
    {
     "ename": "SyntaxError",
     "evalue": "cannot assign to operator (1234011119.py, line 1)",
     "output_type": "error",
     "traceback": [
      "\u001b[0;36m  File \u001b[0;32m\"/tmp/ipykernel_2975/1234011119.py\"\u001b[0;36m, line \u001b[0;32m1\u001b[0m\n\u001b[0;31m    (A^-1)*A*X = (A^-1)*B\u001b[0m\n\u001b[0m    ^\u001b[0m\n\u001b[0;31mSyntaxError\u001b[0m\u001b[0;31m:\u001b[0m cannot assign to operator\n"
     ]
    }
   ],
   "source": [
    "# (A^-1)*A*X = (A^-1)*B Propiedad"
   ]
  },
  {
   "cell_type": "code",
   "execution_count": null,
   "id": "985667bc",
   "metadata": {},
   "outputs": [],
   "source": [
    "#  Id*X = X = (A^-1)*B Teorema"
   ]
  },
  {
   "cell_type": "code",
   "execution_count": 42,
   "id": "8ea74be9",
   "metadata": {},
   "outputs": [
    {
     "data": {
      "text/latex": [
       "$\\displaystyle \\left[\\begin{matrix}a & b\\\\c & d\\end{matrix}\\right]$"
      ],
      "text/plain": [
       "Matrix([\n",
       "[a, b],\n",
       "[c, d]])"
      ]
     },
     "execution_count": 42,
     "metadata": {},
     "output_type": "execute_result"
    }
   ],
   "source": [
    "A"
   ]
  },
  {
   "cell_type": "code",
   "execution_count": 43,
   "id": "95951801",
   "metadata": {},
   "outputs": [
    {
     "data": {
      "text/latex": [
       "$\\displaystyle a d - b c$"
      ],
      "text/plain": [
       "a*d - b*c"
      ]
     },
     "execution_count": 43,
     "metadata": {},
     "output_type": "execute_result"
    }
   ],
   "source": [
    "A.det() #calcula la determinante de un sistema"
   ]
  },
  {
   "cell_type": "code",
   "execution_count": 44,
   "id": "8a17349f",
   "metadata": {},
   "outputs": [
    {
     "data": {
      "text/latex": [
       "$\\displaystyle \\left[\\begin{matrix}\\frac{d}{a d - b c} & - \\frac{b}{a d - b c}\\\\- \\frac{c}{a d - b c} & \\frac{a}{a d - b c}\\end{matrix}\\right]$"
      ],
      "text/plain": [
       "Matrix([\n",
       "[ d/(a*d - b*c), -b/(a*d - b*c)],\n",
       "[-c/(a*d - b*c),  a/(a*d - b*c)]])"
      ]
     },
     "execution_count": 44,
     "metadata": {},
     "output_type": "execute_result"
    }
   ],
   "source": [
    "A.inv() #Calcula la matriz inversa"
   ]
  },
  {
   "cell_type": "code",
   "execution_count": null,
   "id": "67048286",
   "metadata": {},
   "outputs": [],
   "source": [
    "C = sm.Matrix()"
   ]
  },
  {
   "cell_type": "markdown",
   "id": "052d129f",
   "metadata": {},
   "source": [
    "## Matplotlib\n"
   ]
  },
  {
   "cell_type": "code",
   "execution_count": 2,
   "id": "e07cbb64",
   "metadata": {},
   "outputs": [],
   "source": [
    "import numpy as np\n",
    "import matplotlib.pyplot as plt"
   ]
  },
  {
   "cell_type": "code",
   "execution_count": 4,
   "id": "67857557",
   "metadata": {},
   "outputs": [
    {
     "data": {
      "text/plain": [
       "array([  0, 250])"
      ]
     },
     "execution_count": 4,
     "metadata": {},
     "output_type": "execute_result"
    }
   ],
   "source": [
    "xpoints = np.array([0,6])\n",
    "ypoints = np.array([0,250])"
   ]
  },
  {
   "cell_type": "code",
   "execution_count": 53,
   "id": "a503cd2d",
   "metadata": {},
   "outputs": [
    {
     "data": {
      "image/png": "[encoded data removed]",
      "text/plain": [
       "<Figure size 640x480 with 1 Axes>"
      ]
     },
     "metadata": {},
     "output_type": "display_data"
    }
   ],
   "source": [
    "plt.plot(xpoints,ypoints)\n",
    "plt.show()"
   ]
  },
  {
   "cell_type": "code",
   "execution_count": 55,
   "id": "efe91702",
   "metadata": {},
   "outputs": [
    {
     "data": {
      "text/plain": [
       "20.085536923187668"
      ]
     },
     "execution_count": 55,
     "metadata": {},
     "output_type": "execute_result"
    }
   ],
   "source": [
    "np.exp(3)"
   ]
  },
  {
   "cell_type": "code",
   "execution_count": 56,
   "id": "47bc8dcd",
   "metadata": {},
   "outputs": [
    {
     "data": {
      "text/plain": [
       "array([  1.        , 403.42879349])"
      ]
     },
     "execution_count": 56,
     "metadata": {},
     "output_type": "execute_result"
    }
   ],
   "source": [
    "np.exp(xpoints)"
   ]
  },
  {
   "cell_type": "code",
   "execution_count": 5,
   "id": "cb03f79f",
   "metadata": {},
   "outputs": [
    {
     "data": {
      "text/plain": [
       "array([0, 1, 2, 3, 4, 5])"
      ]
     },
     "execution_count": 5,
     "metadata": {},
     "output_type": "execute_result"
    }
   ],
   "source": [
    "xpoints = np.arange(0,6,1)\n",
    "ypoints = np.linspace(0,25,6)\n",
    "xpoints"
   ]
  },
  {
   "cell_type": "code",
   "execution_count": 63,
   "id": "c0f0b2a5",
   "metadata": {},
   "outputs": [
    {
     "data": {
      "text/plain": [
       "[<matplotlib.lines.Line2D at 0x7fa577d3f130>]"
      ]
     },
     "execution_count": 63,
     "metadata": {},
     "output_type": "execute_result"
    },
    {
     "data": {
      "image/png": "[encoded data removed]",
      "text/plain": [
       "<Figure size 640x480 with 1 Axes>"
      ]
     },
     "metadata": {},
     "output_type": "display_data"
    }
   ],
   "source": [
    "plt.plot(xpoints,ypoints)"
   ]
  },
  {
   "cell_type": "code",
   "execution_count": 64,
   "id": "94ae9678",
   "metadata": {},
   "outputs": [
    {
     "data": {
      "text/plain": [
       "array([0, 1, 2, 3, 4, 5])"
      ]
     },
     "execution_count": 64,
     "metadata": {},
     "output_type": "execute_result"
    }
   ],
   "source": [
    "xpoints"
   ]
  },
  {
   "cell_type": "code",
   "execution_count": 65,
   "id": "2a94076f",
   "metadata": {},
   "outputs": [
    {
     "data": {
      "text/plain": [
       "array([  1.        ,   2.71828183,   7.3890561 ,  20.08553692,\n",
       "        54.59815003, 148.4131591 ])"
      ]
     },
     "execution_count": 65,
     "metadata": {},
     "output_type": "execute_result"
    }
   ],
   "source": [
    "np.exp(xpoints)"
   ]
  },
  {
   "cell_type": "code",
   "execution_count": 68,
   "id": "8f449598",
   "metadata": {},
   "outputs": [
    {
     "data": {
      "text/plain": [
       "[<matplotlib.lines.Line2D at 0x7fa577b28d90>]"
      ]
     },
     "execution_count": 68,
     "metadata": {},
     "output_type": "execute_result"
    },
    {
     "data": {
      "image/png": "[encoded data removed]",
      "text/plain": [
       "<Figure size 640x480 with 1 Axes>"
      ]
     },
     "metadata": {},
     "output_type": "display_data"
    }
   ],
   "source": [
    "plt.plot(xpoints,np.exp(xpoints),'o')"
   ]
  },
  {
   "cell_type": "code",
   "execution_count": 111,
   "id": "cc21945b",
   "metadata": {},
   "outputs": [],
   "source": [
    "xpoints = np.arange(0,6,0.01)\n",
    "ypoints = np.linspace(0,25,600)"
   ]
  },
  {
   "cell_type": "code",
   "execution_count": 112,
   "id": "975a5db0",
   "metadata": {},
   "outputs": [
    {
     "data": {
      "text/plain": [
       "<function matplotlib.pyplot.show(close=None, block=None)>"
      ]
     },
     "execution_count": 112,
     "metadata": {},
     "output_type": "execute_result"
    },
    {
     "data": {
      "image/png": "[encoded data removed]",
      "text/plain": [
       "<Figure size 640x480 with 1 Axes>"
      ]
     },
     "metadata": {},
     "output_type": "display_data"
    }
   ],
   "source": [
    "plt.plot(xpoints,np.exp(xpoints),color = 'r',marker = '*',markersize=10) #Diferentes argumentos \n",
    "plt.plot(xpoints,ypoints,'g<')#En  un solo argumento la inicial del color en ingles y la forma puntual \n",
    "plt.plot(xpoints,seno)\n",
    "plt.xlabel('x')\n",
    "plt.ylabel('y')\n",
    "plt.xlim(0,6)\n",
    "plt.ylim(-1,5)\n",
    "plt.grid()\n",
    "plt.title('Graficas de sen(x), exp() y recta')\n",
    "plt.show"
   ]
  },
  {
   "cell_type": "code",
   "execution_count": 97,
   "id": "fc15744e",
   "metadata": {},
   "outputs": [
    {
     "data": {
      "text/plain": [
       "array([ 0.        ,  0.00999983,  0.01999867,  0.0299955 ,  0.03998933,\n",
       "        0.04997917,  0.05996401,  0.06994285,  0.07991469,  0.08987855,\n",
       "        0.09983342,  0.1097783 ,  0.11971221,  0.12963414,  0.13954311,\n",
       "        0.14943813,  0.15931821,  0.16918235,  0.17902957,  0.18885889,\n",
       "        0.19866933,  0.2084599 ,  0.21822962,  0.22797752,  0.23770263,\n",
       "        0.24740396,  0.25708055,  0.26673144,  0.27635565,  0.28595223,\n",
       "        0.29552021,  0.30505864,  0.31456656,  0.32404303,  0.33348709,\n",
       "        0.34289781,  0.35227423,  0.36161543,  0.37092047,  0.38018842,\n",
       "        0.38941834,  0.39860933,  0.40776045,  0.4168708 ,  0.42593947,\n",
       "        0.43496553,  0.44394811,  0.45288629,  0.46177918,  0.47062589,\n",
       "        0.47942554,  0.48817725,  0.49688014,  0.50553334,  0.51413599,\n",
       "        0.52268723,  0.5311862 ,  0.53963205,  0.54802394,  0.55636102,\n",
       "        0.56464247,  0.57286746,  0.58103516,  0.58914476,  0.59719544,\n",
       "        0.60518641,  0.61311685,  0.62098599,  0.62879302,  0.63653718,\n",
       "        0.64421769,  0.65183377,  0.65938467,  0.66686964,  0.67428791,\n",
       "        0.68163876,  0.68892145,  0.69613524,  0.70327942,  0.71035327,\n",
       "        0.71735609,  0.72428717,  0.73114583,  0.73793137,  0.74464312,\n",
       "        0.75128041,  0.75784256,  0.76432894,  0.77073888,  0.77707175,\n",
       "        0.78332691,  0.78950374,  0.79560162,  0.80161994,  0.8075581 ,\n",
       "        0.8134155 ,  0.81919157,  0.82488571,  0.83049737,  0.83602598,\n",
       "        0.84147098,  0.84683184,  0.85210802,  0.85729899,  0.86240423,\n",
       "        0.86742323,  0.87235548,  0.8772005 ,  0.88195781,  0.88662691,\n",
       "        0.89120736,  0.89569869,  0.90010044,  0.90441219,  0.9086335 ,\n",
       "        0.91276394,  0.91680311,  0.9207506 ,  0.92460601,  0.92836897,\n",
       "        0.93203909,  0.935616  ,  0.93909936,  0.9424888 ,  0.945784  ,\n",
       "        0.94898462,  0.95209034,  0.95510086,  0.95801586,  0.96083506,\n",
       "        0.96355819,  0.96618495,  0.9687151 ,  0.97114838,  0.97348454,\n",
       "        0.97572336,  0.9778646 ,  0.97990806,  0.98185353,  0.98370081,\n",
       "        0.98544973,  0.9871001 ,  0.98865176,  0.99010456,  0.99145835,\n",
       "        0.99271299,  0.99386836,  0.99492435,  0.99588084,  0.99673775,\n",
       "        0.99749499,  0.99815247,  0.99871014,  0.99916795,  0.99952583,\n",
       "        0.99978376,  0.99994172,  0.99999968,  0.99995765,  0.99981562,\n",
       "        0.9995736 ,  0.99923163,  0.99878974,  0.99824797,  0.99760638,\n",
       "        0.99686503,  0.99602399,  0.99508335,  0.9940432 ,  0.99290365,\n",
       "        0.99166481,  0.9903268 ,  0.98888977,  0.98735384,  0.98571918,\n",
       "        0.98398595,  0.98215432,  0.98022447,  0.97819661,  0.97607092,\n",
       "        0.97384763,  0.97152696,  0.96910913,  0.96659439,  0.963983  ,\n",
       "        0.9612752 ,  0.95847128,  0.95557152,  0.95257619,  0.94948561,\n",
       "        0.94630009,  0.94301993,  0.93964547,  0.93617705,  0.93261501,\n",
       "        0.92895972,  0.92521152,  0.92137081,  0.91743796,  0.91341336,\n",
       "        0.90929743,  0.90509056,  0.90079319,  0.89640574,  0.89192865,\n",
       "        0.88736237,  0.88270735,  0.87796406,  0.87313298,  0.86821458,\n",
       "        0.86320937,  0.85811783,  0.85294048,  0.84767784,  0.84233043,\n",
       "        0.83689879,  0.83138346,  0.82578499,  0.82010395,  0.81434089,\n",
       "        0.8084964 ,  0.80257107,  0.79656547,  0.79048022,  0.78431593,\n",
       "        0.7780732 ,  0.77175266,  0.76535495,  0.75888071,  0.75233058,\n",
       "        0.74570521,  0.73900528,  0.73223144,  0.72538439,  0.71846479,\n",
       "        0.71147335,  0.70441077,  0.69727774,  0.69007498,  0.68280322,\n",
       "        0.67546318,  0.66805559,  0.6605812 ,  0.65304075,  0.645435  ,\n",
       "        0.6377647 ,  0.63003063,  0.62223356,  0.61437426,  0.60645352,\n",
       "        0.59847214,  0.59043092,  0.58233065,  0.57417215,  0.56595623,\n",
       "        0.55768372,  0.54935544,  0.54097222,  0.53253491,  0.52404434,\n",
       "        0.51550137,  0.50690685,  0.49826164,  0.48956661,  0.48082261,\n",
       "        0.47203054,  0.46319126,  0.45430567,  0.44537464,  0.43639908,\n",
       "        0.42737988,  0.41831794,  0.40921417,  0.40006948,  0.39088478,\n",
       "        0.38166099,  0.37239904,  0.36309985,  0.35376435,  0.34439347,\n",
       "        0.33498815,  0.32554933,  0.31607796,  0.30657499,  0.29704135,\n",
       "        0.28747801,  0.27788593,  0.26826605,  0.25861935,  0.24894679,\n",
       "        0.23924933,  0.22952795,  0.21978361,  0.2100173 ,  0.20022998,\n",
       "        0.19042265,  0.18059627,  0.17075183,  0.16089031,  0.15101271,\n",
       "        0.14112001,  0.13121319,  0.12129326,  0.11136119,  0.10141799,\n",
       "        0.09146464,  0.08150215,  0.07153151,  0.06155372,  0.05156977,\n",
       "        0.04158066,  0.0315874 ,  0.02159098,  0.01159239,  0.00159265,\n",
       "       -0.00840725, -0.01840631, -0.02840353, -0.0383979 , -0.04838844,\n",
       "       -0.05837414, -0.06835401, -0.07832703, -0.08829223, -0.09824859,\n",
       "       -0.10819513, -0.11813086, -0.12805476, -0.13796587, -0.14786317,\n",
       "       -0.15774569, -0.16761244, -0.17746242, -0.18729466, -0.19710817,\n",
       "       -0.20690197, -0.21667508, -0.22642652, -0.23615532, -0.2458605 ,\n",
       "       -0.2555411 , -0.26519615, -0.27482467, -0.28442571, -0.29399831,\n",
       "       -0.30354151, -0.31305436, -0.3225359 , -0.33198519, -0.34140128,\n",
       "       -0.35078323, -0.3601301 , -0.36944096, -0.37871487, -0.38795092,\n",
       "       -0.39714817, -0.4063057 , -0.41542261, -0.42449797, -0.43353088,\n",
       "       -0.44252044, -0.45146575, -0.46036591, -0.46922004, -0.47802725,\n",
       "       -0.48678665, -0.49549737, -0.50415855, -0.51276931, -0.52132879,\n",
       "       -0.52983614, -0.53829051, -0.54669105, -0.55503692, -0.56332728,\n",
       "       -0.57156132, -0.5797382 , -0.5878571 , -0.59591722, -0.60391775,\n",
       "       -0.61185789, -0.61973684, -0.62755382, -0.63530805, -0.64299874,\n",
       "       -0.65062514, -0.65818647, -0.66568199, -0.67311093, -0.68047257,\n",
       "       -0.68776616, -0.69499097, -0.70214629, -0.70923139, -0.71624557,\n",
       "       -0.72318812, -0.73005836, -0.73685559, -0.74357914, -0.75022833,\n",
       "       -0.7568025 , -0.76330098, -0.76972314, -0.77606833, -0.78233591,\n",
       "       -0.78852525, -0.79463575, -0.80066678, -0.80661775, -0.81248805,\n",
       "       -0.81827711, -0.82398434, -0.82960917, -0.83515105, -0.8406094 ,\n",
       "       -0.8459837 , -0.8512734 , -0.85647797, -0.8615969 , -0.86662967,\n",
       "       -0.87157577, -0.87643472, -0.88120603, -0.88588921, -0.89048381,\n",
       "       -0.89498936, -0.89940541, -0.90373152, -0.90796726, -0.9121122 ,\n",
       "       -0.91616594, -0.92012805, -0.92399816, -0.92777586, -0.93146079,\n",
       "       -0.93505258, -0.93855086, -0.94195528, -0.94526551, -0.94848122,\n",
       "       -0.95160207, -0.95462777, -0.95755801, -0.96039249, -0.96313093,\n",
       "       -0.96577306, -0.96831861, -0.97076734, -0.97311898, -0.97537332,\n",
       "       -0.97753012, -0.97958916, -0.98155025, -0.98341319, -0.98517778,\n",
       "       -0.98684386, -0.98841125, -0.98987981, -0.99124937, -0.99251981,\n",
       "       -0.993691  , -0.99476283, -0.99573517, -0.99660795, -0.99738106,\n",
       "       -0.99805444, -0.99862801, -0.99910172, -0.99947552, -0.99974938,\n",
       "       -0.99992326, -0.99999715, -0.99997104, -0.99984493, -0.99961884,\n",
       "       -0.99929279, -0.99886681, -0.99834094, -0.99771525, -0.99698978,\n",
       "       -0.99616461, -0.99523983, -0.99421552, -0.99309179, -0.99186876,\n",
       "       -0.99054654, -0.98912526, -0.98760507, -0.98598613, -0.98426858,\n",
       "       -0.98245261, -0.9805384 , -0.97852613, -0.97641601, -0.97420825,\n",
       "       -0.97190307, -0.9695007 , -0.96700138, -0.96440536, -0.9617129 ,\n",
       "       -0.95892427, -0.95603975, -0.95305963, -0.9499842 , -0.94681378,\n",
       "       -0.94354867, -0.94018921, -0.93673573, -0.93318858, -0.92954811,\n",
       "       -0.92581468, -0.92198868, -0.91807047, -0.91406047, -0.90995905,\n",
       "       -0.90576664, -0.90148366, -0.89711052, -0.89264768, -0.88809557,\n",
       "       -0.88345466, -0.87872539, -0.87390826, -0.86900374, -0.86401232,\n",
       "       -0.85893449, -0.85377078, -0.84852169, -0.84318774, -0.83776948,\n",
       "       -0.83226744, -0.82668218, -0.82101425, -0.81526421, -0.80943266,\n",
       "       -0.80352016, -0.7975273 , -0.7914547 , -0.78530295, -0.77907267,\n",
       "       -0.77276449, -0.76637903, -0.75991693, -0.75337884, -0.74676541,\n",
       "       -0.74007731, -0.7333152 , -0.72647976, -0.71957167, -0.71259163,\n",
       "       -0.70554033, -0.69841847, -0.69122677, -0.68396595, -0.67663674,\n",
       "       -0.66923986, -0.66177605, -0.65424608, -0.64665067, -0.6389906 ,\n",
       "       -0.63126664, -0.62347955, -0.61563011, -0.6077191 , -0.59974733,\n",
       "       -0.59171558, -0.58362466, -0.57547538, -0.56726855, -0.559005  ,\n",
       "       -0.55068554, -0.54231102, -0.53388227, -0.52540013, -0.51686544,\n",
       "       -0.50827908, -0.49964188, -0.49095472, -0.48221847, -0.473434  ,\n",
       "       -0.46460218, -0.4557239 , -0.44680005, -0.43783152, -0.42881921,\n",
       "       -0.41976402, -0.41066685, -0.40152861, -0.39235022, -0.3831326 ,\n",
       "       -0.37387666, -0.36458334, -0.35525356, -0.34588825, -0.33648836,\n",
       "       -0.32705481, -0.31758857, -0.30809056, -0.29856174, -0.28900307])"
      ]
     },
     "execution_count": 97,
     "metadata": {},
     "output_type": "execute_result"
    }
   ],
   "source": [
    "seno = np.sin(xpoints)\n",
    "seno"
   ]
  },
  {
   "cell_type": "code",
   "execution_count": 98,
   "id": "eeeff54f",
   "metadata": {},
   "outputs": [
    {
     "data": {
      "text/plain": [
       "[<matplotlib.lines.Line2D at 0x7fa5772efee0>]"
      ]
     },
     "execution_count": 98,
     "metadata": {},
     "output_type": "execute_result"
    },
    {
     "data": {
      "image/png": "[encoded data removed]",
      "text/plain": [
       "<Figure size 640x480 with 1 Axes>"
      ]
     },
     "metadata": {},
     "output_type": "display_data"
    }
   ],
   "source": [
    "plt.plot(xpoints,seno)\n",
    "plt.show"
   ]
  }
 ],
 "metadata": {
  "kernelspec": {
   "display_name": "Python 3 (ipykernel)",
   "language": "python",
   "name": "python3"
  },
  "language_info": {
   "codemirror_mode": {
    "name": "ipython",
    "version": 3
   },
   "file_extension": ".py",
   "mimetype": "text/x-python",
   "name": "python",
   "nbconvert_exporter": "python",
   "pygments_lexer": "ipython3",
   "version": "3.9.13"
  }
 },
 "nbformat": 4,
 "nbformat_minor": 5
}
