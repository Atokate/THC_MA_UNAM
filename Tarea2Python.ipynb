{
 "cells": [
  {
   "cell_type": "markdown",
   "id": "d153e9f1",
   "metadata": {},
   "source": [
    "## 1. Define una funcion cuyos argumentos sean dos arrays de numpy, dicha funcion debe dar como resultado el producto punto de los dos vectores representados por los arrays."
   ]
  },
  {
   "cell_type": "code",
   "execution_count": 8,
   "id": "53e51b4e",
   "metadata": {},
   "outputs": [],
   "source": [
    "import numpy as np \n",
    "def produc_punto(A,B):\n",
    "    C = (A*B)\n",
    "    s = C.sum()\n",
    "    return s"
   ]
  },
  {
   "cell_type": "code",
   "execution_count": 9,
   "id": "12eb0e2c",
   "metadata": {},
   "outputs": [
    {
     "name": "stdout",
     "output_type": "stream",
     "text": [
      "Programa que realiza el producto punto entre dos vectores n-dimensionales\n",
      "Que dimension desea que tengan los vectores?  3\n",
      "Ingrese el valor del vector A en la posicion  1\n",
      ":    1\n",
      "Ingrese el valor del vector A en la posicion  2\n",
      ":    2\n",
      "Ingrese el valor del vector A en la posicion  3\n",
      ":    3\n",
      "Ingrese el valor del vector B en la posicion  1\n",
      ":    4\n",
      "Ingrese el valor del vector B en la posicion  2\n",
      ":    5\n",
      "Ingrese el valor del vector B en la posicion  3\n",
      ":    6\n",
      "\n",
      "El vector dado A es:  [1 2 3]\n",
      "El vector dado B es:  [4 5 6]\n",
      "\n",
      "El resultado de realizar el producto punto entre los vectores dados es:  32\n"
     ]
    }
   ],
   "source": [
    "print('Programa que realiza el producto punto entre dos vectores n-dimensionales')\n",
    "n = int(input('Que dimension desea que tengan los vectores?  '))\n",
    "A = np.zeros(n,int)\n",
    "B = np.zeros(n,int)\n",
    "\n",
    "for i in range(0,n):\n",
    "    print('Ingrese el valor del vector A en la posicion ', i+1)\n",
    "    A[i] = input(':    ')\n",
    "    \n",
    "for j in range(0,n):\n",
    "    print('Ingrese el valor del vector B en la posicion ', j+1)\n",
    "    B[j] = input(':    ')\n",
    "\n",
    "res = produc_punto(A,B)\n",
    "\n",
    "print('')\n",
    "print('El vector dado A es: ',A)\n",
    "print('El vector dado B es: ',B)\n",
    "print('')\n",
    "print('El resultado de realizar el producto punto entre los vectores dados es: ',res)"
   ]
  },
  {
   "cell_type": "markdown",
   "id": "fa72ccc9",
   "metadata": {},
   "source": [
    "## 2. Define una funcion similar para multiplicar matrices, definidas mediante arrays de numpy. "
   ]
  },
  {
   "cell_type": "code",
   "execution_count": 4,
   "id": "321d499f",
   "metadata": {
    "scrolled": true
   },
   "outputs": [],
   "source": [
    "import numpy as np \n",
    "def prod_matriz(A,B):\n",
    "    return A@B "
   ]
  },
  {
   "cell_type": "code",
   "execution_count": 5,
   "id": "2bc88404",
   "metadata": {},
   "outputs": [
    {
     "name": "stdout",
     "output_type": "stream",
     "text": [
      "Programa que realiza el producto matricial AxB\n",
      "Cuantas columnas desea que tenga la matriz  A:   1\n",
      "Cuantas filas desea que tenga la matriz     A:   3\n",
      "Cuantas columnas desea que tenga la matriz  B:   3\n",
      "Cuantas filas desea que tenga la matriz     B:   3\n",
      "Ingrese el valor de la celda 1 1 de la matriz A: \n",
      "1\n",
      "Ingrese el valor de la celda 1 2 de la matriz A: \n",
      "2\n",
      "Ingrese el valor de la celda 1 3 de la matriz A: \n",
      "3\n",
      "Ingrese el valor de la celda 1 1 de la matriz B: \n",
      "4\n",
      "Ingrese el valor de la celda 1 2 de la matriz B: \n",
      "5\n",
      "Ingrese el valor de la celda 1 3 de la matriz B: \n",
      "6\n",
      "Ingrese el valor de la celda 2 1 de la matriz B: \n",
      "7\n",
      "Ingrese el valor de la celda 2 2 de la matriz B: \n",
      "8\n",
      "Ingrese el valor de la celda 2 3 de la matriz B: \n",
      "9\n",
      "Ingrese el valor de la celda 3 1 de la matriz B: \n",
      "10\n",
      "Ingrese el valor de la celda 3 2 de la matriz B: \n",
      "11\n",
      "Ingrese el valor de la celda 3 3 de la matriz B: \n",
      "12\n",
      "La matriz A es: \n",
      " [[1 2 3]]\n",
      "La matriz B es: \n",
      " [[ 4  5  6]\n",
      " [ 7  8  9]\n",
      " [10 11 12]]\n",
      "La matriz resultante de multiplicar AxB es: \n",
      " [[48 54 60]]\n"
     ]
    }
   ],
   "source": [
    "print('Programa que realiza el producto matricial AxB')\n",
    "\n",
    "n1 = int(input('Cuantas columnas desea que tenga la matriz  A:   ')) \n",
    "m1 = int(input('Cuantas filas desea que tenga la matriz     A:   '))\n",
    "n2 = int(input('Cuantas columnas desea que tenga la matriz  B:   '))\n",
    "m2 = int(input('Cuantas filas desea que tenga la matriz     B:   '))\n",
    "\n",
    "A = np.zeros((n1*m1),int).reshape(n1,m1)\n",
    "B = np.zeros((n2*m2),int).reshape(n2,m2)\n",
    "\n",
    "\n",
    "for i in range(0,n1):\n",
    "    for j in range(0,m1):\n",
    "        print('Ingrese el valor de la celda {} {} de la matriz A: '.format(i+1, j+1))\n",
    "        A[i,j] = float(input())\n",
    "    \n",
    "for i in range(0,n2):\n",
    "    for j in range(0,m2):\n",
    "        print('Ingrese el valor de la celda {} {} de la matriz B: '.format(i+1, j+1))\n",
    "        B[i,j] = float(input())\n",
    "    \n",
    "if m1==n2:\n",
    "    AxB = prod_matriz(A,B)\n",
    "else:\n",
    "    print('No se puede realizar el producto con las matrices dadas')\n",
    "    \n",
    "    \n",
    "print('La matriz A es: \\n',A)\n",
    "print('La matriz B es: \\n',B)\n",
    "print('La matriz resultante de multiplicar AxB es: \\n',AxB)"
   ]
  },
  {
   "cell_type": "markdown",
   "id": "bb20c161",
   "metadata": {},
   "source": [
    "## 3. Define una funcion cuyo unico argumento sea una matriz A, de tal forma que dicha funcion corrobore si la matriz tiene determinante no nulo. Y en ese caso, calcule e imprima la matriz inversa de A."
   ]
  },
  {
   "cell_type": "code",
   "execution_count": 1,
   "id": "94c51727",
   "metadata": {},
   "outputs": [],
   "source": [
    "import sympy as sm \n",
    "def mat_inver(A):\n",
    "    determ = A.det()\n",
    "    if determ == 0:\n",
    "        print('La matriz no es invertible')\n",
    "    else:\n",
    "        return A.inv()"
   ]
  },
  {
   "cell_type": "code",
   "execution_count": 2,
   "id": "063c5ea2",
   "metadata": {},
   "outputs": [
    {
     "data": {
      "text/latex": [
       "$\\displaystyle \\left[\\begin{matrix}- \\frac{5}{3} & \\frac{2}{3}\\\\\\frac{4}{3} & - \\frac{1}{3}\\end{matrix}\\right]$"
      ],
      "text/plain": [
       "Matrix([\n",
       "[-5/3,  2/3],\n",
       "[ 4/3, -1/3]])"
      ]
     },
     "execution_count": 2,
     "metadata": {},
     "output_type": "execute_result"
    }
   ],
   "source": [
    "A = sm.Matrix([[1,2],[4,5]])       \n",
    "mat_inver(A)"
   ]
  },
  {
   "cell_type": "markdown",
   "id": "bfc6ff3b",
   "metadata": {},
   "source": [
    "## 4. Utiliza las funciones de los dos ejercicios anteriores para definir un metodo matricial para la resolucion de n sistemas de ecuaciones lineales con n incognitas."
   ]
  },
  {
   "cell_type": "code",
   "execution_count": 13,
   "id": "28478308",
   "metadata": {},
   "outputs": [
    {
     "data": {
      "text/latex": [
       "$\\displaystyle \\left[\\begin{matrix}x\\\\y\\end{matrix}\\right] = \\left[\\begin{matrix}-1\\\\2\\end{matrix}\\right]$"
      ],
      "text/plain": [
       "Eq(Matrix([\n",
       "[x],\n",
       "[y]]), Matrix([\n",
       "[-1],\n",
       "[ 2]]))"
      ]
     },
     "execution_count": 13,
     "metadata": {},
     "output_type": "execute_result"
    }
   ],
   "source": [
    "import sympy as sm  \n",
    "x, y, z= sm.symbols('x y z')\n",
    "\n",
    "X = sm.Matrix([x,y])\n",
    "A = sm.Matrix([[1,2],[4,5]])\n",
    "Ainv = mat_inver(A)\n",
    "B = sm.Matrix([3,6])\n",
    "\n",
    "prod = prod_matriz(Ainv,B)\n",
    "\n",
    "sm.Eq(X,prod)"
   ]
  },
  {
   "cell_type": "markdown",
   "id": "dcf0a8bf",
   "metadata": {},
   "source": [
    "## 5. Define una funcion que tenga 4 argumentos que proporcionara el usuario: una letra para la variable x un entero k, un signo (+ o -) y otro entero n. La funcion debe regresar la expansion simbolica del polinomio (x + k)^n o (x − k)^n si el signo proporcionado fue + o -, respectivamente."
   ]
  },
  {
   "cell_type": "code",
   "execution_count": 1,
   "id": "4b624d5d",
   "metadata": {},
   "outputs": [],
   "source": [
    "import sympy as sm \n",
    "def polinomio(x,k,sign,n):\n",
    "    x = sm.symbols('x')\n",
    "    if sign == '+':\n",
    "        return(sm.expand((x+k)**n))\n",
    "    elif sign == '-':\n",
    "        return(sm.expand((x-k)**n))\n",
    "    else:\n",
    "        print('Ingrese un simbolo valido')"
   ]
  },
  {
   "cell_type": "code",
   "execution_count": 2,
   "id": "0e85d4fd",
   "metadata": {},
   "outputs": [
    {
     "name": "stdout",
     "output_type": "stream",
     "text": [
      "Ingrese un valor para k: 14\n",
      "Ingrese una letra para la variable: x\n",
      "Ingrese el simbolo \"+\" o \"-\" : -\n",
      "Ingrese un exponente para el polinomio: 8\n"
     ]
    },
    {
     "data": {
      "text/latex": [
       "$\\displaystyle 1.0 x^{8} - 112.0 x^{7} + 5488.0 x^{6} - 153664.0 x^{5} + 2689120.0 x^{4} - 30118144.0 x^{3} + 210827008.0 x^{2} - 843308032.0 x + 1475789056.0$"
      ],
      "text/plain": [
       "1.0*x**8 - 112.0*x**7 + 5488.0*x**6 - 153664.0*x**5 + 2689120.0*x**4 - 30118144.0*x**3 + 210827008.0*x**2 - 843308032.0*x + 1475789056.0"
      ]
     },
     "execution_count": 2,
     "metadata": {},
     "output_type": "execute_result"
    }
   ],
   "source": [
    "k = float(input('Ingrese un valor para k: '))\n",
    "x = str(input('Ingrese una letra para la variable: '))\n",
    "sign = str(input('Ingrese el simbolo \"+\" o \"-\" : '))\n",
    "n = int(input('Ingrese un exponente para el polinomio: '))\n",
    "res = polinomio(x,k,sign,n)\n",
    "res"
   ]
  },
  {
   "cell_type": "markdown",
   "id": "1c940b61",
   "metadata": {},
   "source": [
    "## 6. Define una funcion cuyo unico argumento sea una expresion matematica de la forma f(x) (funcion real de variable real) a la cual le calculara, simbolicamente, su primera y segunda derivada. La primer derivada la debes igualar a 0 y despejar para ası calcular los puntos crıticos de f(x). Dicha funci ́on debe imprimir como  ́ultima instancia los puntos crıticos de f(x), especificando si se tratan de m ́aximos o mınimos locales."
   ]
  },
  {
   "cell_type": "code",
   "execution_count": 12,
   "id": "36efd8c5",
   "metadata": {},
   "outputs": [],
   "source": [
    "import sympy as sm\n",
    "def der(ec1):\n",
    "    x = sm.symbols('x') \n",
    "    dif1 = sm.diff(ec1,x)\n",
    "    dif2 = sm.diff(ec1,x,x)\n",
    "    critics = sm.solve(dif1)\n",
    "    for i in critics:\n",
    "        if dif2.subs(x,i)<0:\n",
    "            print('x = {} Es un maximo'.format(i))\n",
    "        elif dif2.subs(x,i)>0:\n",
    "            print('x = {} Es un minimo'.format(i))\n",
    "        else:\n",
    "            print('Indeterminado')"
   ]
  },
  {
   "cell_type": "code",
   "execution_count": 13,
   "id": "4fad60c2",
   "metadata": {},
   "outputs": [
    {
     "name": "stdout",
     "output_type": "stream",
     "text": [
      "x = -9/10 Es un minimo\n"
     ]
    }
   ],
   "source": [
    "x = sm.symbols('x') \n",
    "eq1 = 5*x**2 + 9*x\n",
    "c = der(eq1)"
   ]
  },
  {
   "cell_type": "markdown",
   "id": "15f44c1d",
   "metadata": {},
   "source": [
    "## 7. Define una funcion que resuelva simultaneamente dos ecuaciones de 2 incognitas, es decir que sea capaz de resolver sistemas de dos dimensiones "
   ]
  },
  {
   "cell_type": "code",
   "execution_count": 8,
   "id": "2d2b2d13",
   "metadata": {},
   "outputs": [],
   "source": [
    "import sympy as sm \n",
    "def ecs2(ec1,ec2):\n",
    "    x,y = sm.symbols('x y')\n",
    "    res = sm.solve([ec1,ec2],[x,y])\n",
    "    return res"
   ]
  },
  {
   "cell_type": "code",
   "execution_count": 9,
   "id": "8f069f21",
   "metadata": {},
   "outputs": [
    {
     "name": "stdout",
     "output_type": "stream",
     "text": [
      "{x: 2/9, y: 34/9}\n"
     ]
    }
   ],
   "source": [
    "import sympy as sm\n",
    "x,y = sm.symbols('x y')\n",
    "ec1 = sm.Eq(x+y-4,0)\n",
    "ec2 = sm.Eq(4*x-5*y+18,0)\n",
    "\n",
    "sol = ecs2(ec1,ec2)\n",
    "print(sol)"
   ]
  },
  {
   "cell_type": "markdown",
   "id": "fe2212fd",
   "metadata": {},
   "source": [
    "## 8. Define una funcion que grafique las dos ecuaciones del ejercicio 7. ¿Se intersectan dichas graficas en el punto obtenido en la pregunta anterior?"
   ]
  },
  {
   "cell_type": "code",
   "execution_count": 11,
   "id": "1a3bdffe",
   "metadata": {},
   "outputs": [
    {
     "data": {
      "image/png": "[encoded data removed]",
      "text/plain": [
       "<Figure size 640x480 with 1 Axes>"
      ]
     },
     "metadata": {},
     "output_type": "display_data"
    }
   ],
   "source": [
    "import matplotlib.pyplot as plt\n",
    "import sympy as sm\n",
    "import numpy as np\n",
    "\n",
    "def graficas(ec1,ec2):\n",
    "    \n",
    "    despeje1 = sm.solve(ec1,y)\n",
    "    despeje2 = sm.solve(ec2,y)\n",
    "    \n",
    "    f1 = sm.lambdify(x,despeje1)\n",
    "    f2 = sm.lambdify(x,despeje2)\n",
    "    \n",
    "    xrango = np.arange(-10,10,.1)\n",
    "    \n",
    "    plt.figure()\n",
    "    plt.plot(xrango,f1(xrango)[0],'blue', label = 'función 1') \n",
    "    plt.plot(xrango,f2(xrango)[0],'orange', label = 'función 2')\n",
    "    plt.legend()\n",
    "    plt.xlabel('Eje x')\n",
    "    plt.ylabel('Eje y')\n",
    "    plt.grid()\n",
    "    plt.show()\n",
    "    \n",
    "graficas(ec1,ec2)"
   ]
  },
  {
   "cell_type": "markdown",
   "id": "84dad517",
   "metadata": {},
   "source": [
    "## 9. Construye una grafica que contenga 6 subgraficas, en cada una de ellas debera estar graficada una de las 6 funciones trigonometricas (sen, cos, tan, ctg, sec y csc). Identifica cada funcion con una leyenda en cada subgrafica, no olvides tambien indicar los ejes de cada subgrafica."
   ]
  },
  {
   "cell_type": "code",
   "execution_count": 76,
   "id": "964717a8",
   "metadata": {},
   "outputs": [
    {
     "name": "stderr",
     "output_type": "stream",
     "text": [
      "/tmp/ipykernel_2918/4180124926.py:18: RuntimeWarning: invalid value encountered in arcsin\n",
      "  cotg = np.arcsin(xpoints)\n",
      "/tmp/ipykernel_2918/4180124926.py:19: RuntimeWarning: invalid value encountered in arccos\n",
      "  seca = np.arccos(xpoints)\n"
     ]
    },
    {
     "data": {
      "text/plain": [
       "<function matplotlib.pyplot.show(close=None, block=None)>"
      ]
     },
     "execution_count": 76,
     "metadata": {},
     "output_type": "execute_result"
    },
    {
     "data": {
      "image/png": "[encoded data removed]",
      "text/plain": [
       "<Figure size 640x480 with 1 Axes>"
      ]
     },
     "metadata": {},
     "output_type": "display_data"
    }
   ],
   "source": [
    "import matplotlib.pyplot as plt\n",
    "import sympy as sm\n",
    "import numpy as np\n",
    "\n",
    "xpoints = np.arange(-4,4,np.pi/1000)\n",
    "\n",
    "seno = np.sin(xpoints)\n",
    "cose = np.cos(xpoints)\n",
    "tang = np.tan(xpoints)\n",
    "\n",
    "# for i in seno:\n",
    "#     if seno==0:\n",
    "#         seno += 0.000000001\n",
    "# for i in cose[0]:\n",
    "#     if cose[i]==0:\n",
    "#         cose[i] += 0.000000001\n",
    "\n",
    "cotg = np.arcsin(xpoints) \n",
    "seca = np.arccos(xpoints) \n",
    "cosc = np.arctan(xpoints) \n",
    "\n",
    "    \n",
    "        \n",
    "plt.figure()\n",
    "plt.plot(xpoints,seno,color = 'r',label='sin(x)')\n",
    "plt.plot(xpoints,cose,color = 'b',label='cos(x)')\n",
    "plt.plot(xpoints,tang,color = 'g',label='tan(x)')\n",
    "plt.plot(xpoints,cotg,color = 'magenta',label='ctg(x)')\n",
    "plt.plot(xpoints,seca,color = 'pink',label='sec(x)')\n",
    "plt.plot(xpoints,cosc,color = 'y',label='csc(x)')\n",
    "plt.xlabel('Eje x')\n",
    "plt.ylabel('Eje y')\n",
    "plt.xlim(-4,4)\n",
    "plt.ylim(-6,6)\n",
    "plt.legend()\n",
    "plt.grid()\n",
    "plt.show"
   ]
  },
  {
   "cell_type": "markdown",
   "id": "85bf9b30",
   "metadata": {},
   "source": [
    "## 10. Genera un array que contenga 1500 numeros generados aleatoriamente, de tal forma que la distribucion de dichos valores corresponda a una ”distribucion normal”. Grafica dichos valores, usando una scatter plot o un  grafico de barras para comprobar que efectivamente los ”datos” tienen una distribucion normal."
   ]
  },
  {
   "cell_type": "code",
   "execution_count": 16,
   "id": "e5b4d1bf",
   "metadata": {},
   "outputs": [
    {
     "data": {
      "text/plain": [
       "(array([  9.,  55., 173., 359., 459., 300., 120.,  21.,   3.,   1.]),\n",
       " array([ 48.8913012 ,  60.83085719,  72.77041318,  84.70996917,\n",
       "         96.64952516, 108.58908115, 120.52863714, 132.46819313,\n",
       "        144.40774912, 156.34730511, 168.28686111]),\n",
       " <BarContainer object of 10 artists>)"
      ]
     },
     "execution_count": 16,
     "metadata": {},
     "output_type": "execute_result"
    },
    {
     "data": {
      "image/png": "[encoded data removed]",
      "text/plain": [
       "<Figure size 640x480 with 1 Axes>"
      ]
     },
     "metadata": {},
     "output_type": "display_data"
    }
   ],
   "source": [
    "import numpy as np\n",
    "import matplotlib.pyplot as plt\n",
    "\n",
    "valoresN = np.random.normal(100,15,1500)\n",
    "plt.hist(valoresN,color='cyan')"
   ]
  },
  {
   "cell_type": "code",
   "execution_count": null,
   "id": "5781697c",
   "metadata": {},
   "outputs": [],
   "source": []
  }
 ],
 "metadata": {
  "kernelspec": {
   "display_name": "Python 3 (ipykernel)",
   "language": "python",
   "name": "python3"
  },
  "language_info": {
   "codemirror_mode": {
    "name": "ipython",
    "version": 3
   },
   "file_extension": ".py",
   "mimetype": "text/x-python",
   "name": "python",
   "nbconvert_exporter": "python",
   "pygments_lexer": "ipython3",
   "version": "3.9.13"
  }
 },
 "nbformat": 4,
 "nbformat_minor": 5
}
