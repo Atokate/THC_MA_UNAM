{
 "cells": [
  {
   "cell_type": "markdown",
   "id": "c157fc9f-0318-4af2-a0c0-464ba0ab374c",
   "metadata": {},
   "source": [
    "## Crear funcion que dependa de dos argumentos, el primero depende del signo y el segundo sera un numero entero que sera la potencia, (x,argumento,y)**potencia dada"
   ]
  },
  {
   "cell_type": "code",
   "execution_count": 17,
   "id": "9d1f235f-2ea3-4824-992c-40c561fa39ff",
   "metadata": {},
   "outputs": [],
   "source": [
    "def polinomio_potencia(a,b):\n",
    "    import sympy as sm\n",
    "\n",
    "    x,y = sm.symbols('x y')\n",
    "    \n",
    "    if a == 0:\n",
    "        return(sm.expand((x-y)**b))\n",
    "    elif a == 1 :\n",
    "        return(sm.expand((x+y)**b))\n",
    "    else:\n",
    "        print('Ingrese un exponente válido')\n",
    "        "
   ]
  },
  {
   "cell_type": "code",
   "execution_count": 21,
   "id": "95b8232e-1c1d-43bd-90e0-9df4fa9e15a7",
   "metadata": {},
   "outputs": [],
   "source": [
    "z = polinomio_potencia(1,6)"
   ]
  },
  {
   "cell_type": "markdown",
   "id": "8c641d20-a03f-4642-8049-cf5ae7307b6b",
   "metadata": {},
   "source": [
    "## del otro archivo sympy.ipynb"
   ]
  },
  {
   "cell_type": "code",
   "execution_count": 22,
   "id": "e4f9e186-1172-45a9-a88d-c1931cbac244",
   "metadata": {},
   "outputs": [
    {
     "data": {
      "text/latex": [
       "$\\displaystyle y^{6}$"
      ],
      "text/plain": [
       "y**6"
      ]
     },
     "execution_count": 22,
     "metadata": {},
     "output_type": "execute_result"
    }
   ],
   "source": [
    "sm.limit(z,x,0)"
   ]
  },
  {
   "cell_type": "code",
   "execution_count": 23,
   "id": "62522aaa-f5e3-4890-abcc-e72b9d88a97c",
   "metadata": {},
   "outputs": [
    {
     "data": {
      "text/latex": [
       "$\\displaystyle x^{6} + 6 x^{5} y + 15 x^{4} y^{2} + 20 x^{3} y^{3} + 15 x^{2} y^{4} + 6 x y^{5} + y^{6} = 0$"
      ],
      "text/plain": [
       "Eq(x**6 + 6*x**5*y + 15*x**4*y**2 + 20*x**3*y**3 + 15*x**2*y**4 + 6*x*y**5 + y**6, 0)"
      ]
     },
     "execution_count": 23,
     "metadata": {},
     "output_type": "execute_result"
    }
   ],
   "source": [
    "sm.Eq(z,0)\n"
   ]
  },
  {
   "cell_type": "code",
   "execution_count": 24,
   "id": "5b7541ec-a49a-483f-a08a-2c178275521a",
   "metadata": {},
   "outputs": [],
   "source": [
    "import matplotlib #Graficas"
   ]
  },
  {
   "cell_type": "code",
   "execution_count": null,
   "id": "bb343ab5-8b76-4749-8b2d-dfa8f7b156a4",
   "metadata": {},
   "outputs": [],
   "source": []
  }
 ],
 "metadata": {
  "kernelspec": {
   "display_name": "Python 3 (ipykernel)",
   "language": "python",
   "name": "python3"
  },
  "language_info": {
   "codemirror_mode": {
    "name": "ipython",
    "version": 3
   },
   "file_extension": ".py",
   "mimetype": "text/x-python",
   "name": "python",
   "nbconvert_exporter": "python",
   "pygments_lexer": "ipython3",
   "version": "3.9.13"
  }
 },
 "nbformat": 4,
 "nbformat_minor": 5
}
