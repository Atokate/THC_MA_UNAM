{
 "cells": [
  {
   "cell_type": "code",
   "execution_count": 14,
   "id": "1fc901c0",
   "metadata": {},
   "outputs": [
    {
     "name": "stdout",
     "output_type": "stream",
     "text": [
      "Ingrese en que rango quiere buscar numeros primos: 10\n",
      "[2, 3, 4, 2, 3, 4, 5, 3, 5, 6, 2, 4, 5, 6, 7, 3, 4, 6, 7, 8]\n"
     ]
    }
   ],
   "source": [
    "#Imprimir los n primeros numeros primos\n",
    "primos = []\n",
    "n = int(input('Ingrese en que rango quiere buscar numeros primos: '))\n",
    "\n",
    "for i in range(1,n+1):\n",
    "     for j in range(1,i-1):\n",
    "        if i%j == 0:\n",
    "            continue\n",
    "        else:\n",
    "            primos.append(j)\n",
    "print(primos)"
   ]
  },
  {
   "cell_type": "code",
   "execution_count": null,
   "id": "11c49188",
   "metadata": {},
   "outputs": [],
   "source": []
  }
 ],
 "metadata": {
  "kernelspec": {
   "display_name": "Python 3 (ipykernel)",
   "language": "python",
   "name": "python3"
  },
  "language_info": {
   "codemirror_mode": {
    "name": "ipython",
    "version": 3
   },
   "file_extension": ".py",
   "mimetype": "text/x-python",
   "name": "python",
   "nbconvert_exporter": "python",
   "pygments_lexer": "ipython3",
   "version": "3.9.13"
  }
 },
 "nbformat": 4,
 "nbformat_minor": 5
}
